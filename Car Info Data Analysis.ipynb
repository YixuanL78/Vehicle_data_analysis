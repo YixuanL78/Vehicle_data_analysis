{
 "cells": [
  {
   "cell_type": "markdown",
   "metadata": {
    "application/vnd.databricks.v1+cell": {
     "cellMetadata": {
      "byteLimit": 2048000,
      "rowLimit": 10000
     },
     "inputWidgets": {},
     "nuid": "feaf8820-a1fd-47a7-bfd7-fed192eaeae2",
     "showTitle": false,
     "tableResultSettingsMap": {},
     "title": ""
    }
   },
   "source": [
    "#### 1. Download Data and extrack 1 of 500 commercial vehicles' trajectories."
   ]
  },
  {
   "cell_type": "markdown",
   "metadata": {
    "application/vnd.databricks.v1+cell": {
     "cellMetadata": {
      "byteLimit": 2048000,
      "rowLimit": 10000
     },
     "inputWidgets": {},
     "nuid": "1e355ebe-0c16-4d21-bffa-0bbc1c95c910",
     "showTitle": false,
     "tableResultSettingsMap": {},
     "title": ""
    }
   },
   "source": [
    "##### Download Data"
   ]
  },
  {
   "cell_type": "code",
   "execution_count": 0,
   "metadata": {
    "application/vnd.databricks.v1+cell": {
     "cellMetadata": {
      "byteLimit": 2048000,
      "rowLimit": 10000
     },
     "inputWidgets": {},
     "nuid": "f7343f3b-2c79-46fa-be15-33549c4d5e5f",
     "showTitle": false,
     "tableResultSettingsMap": {},
     "title": ""
    }
   },
   "outputs": [
    {
     "output_type": "display_data",
     "data": {
      "application/vnd.databricks.v1+bamboolib_hint": "{\"pd.DataFrames\": [], \"version\": \"0.0.1\"}",
      "text/plain": []
     },
     "metadata": {},
     "output_type": "display_data"
    }
   ],
   "source": [
    "from csv import reader\n",
    "from pyspark.sql import Row \n",
    "from pyspark.sql import SparkSession\n",
    "from pyspark.sql.types import *\n",
    "import pandas as pd\n",
    "import numpy as np\n",
    "import seaborn as sb\n",
    "import matplotlib.pyplot as plt\n",
    "import warnings\n",
    "\n",
    "import os\n",
    "os.environ[\"PYSPARK_PYTHON\"] = \"python3\""
   ]
  },
  {
   "cell_type": "code",
   "execution_count": 0,
   "metadata": {
    "application/vnd.databricks.v1+cell": {
     "cellMetadata": {
      "byteLimit": 2048000,
      "rowLimit": 10000
     },
     "inputWidgets": {},
     "nuid": "d12c6750-fd35-4903-9973-289c93b5f9db",
     "showTitle": false,
     "tableResultSettingsMap": {},
     "title": ""
    }
   },
   "outputs": [
    {
     "output_type": "display_data",
     "data": {
      "text/html": [
       "<style scoped>\n",
       "  .table-result-container {\n",
       "    max-height: 300px;\n",
       "    overflow: auto;\n",
       "  }\n",
       "  table, th, td {\n",
       "    border: 1px solid black;\n",
       "    border-collapse: collapse;\n",
       "  }\n",
       "  th, td {\n",
       "    padding: 5px;\n",
       "  }\n",
       "  th {\n",
       "    text-align: left;\n",
       "  }\n",
       "</style><div class='table-result-container'><table class='table-result'><thead style='background-color: white'><tr><th>path</th><th>name</th><th>size</th><th>modificationTime</th></tr></thead><tbody><tr><td>dbfs:/EV_chargingMap/Xuancheng/FCD.csv</td><td>FCD.csv</td><td>3415556737</td><td>1740445971000</td></tr><tr><td>dbfs:/EV_chargingMap/Xuancheng/road_info.csv</td><td>road_info.csv</td><td>336428</td><td>1739896297000</td></tr></tbody></table></div>"
      ]
     },
     "metadata": {
      "application/vnd.databricks.v1+output": {
       "addedWidgets": {},
       "aggData": [],
       "aggError": "",
       "aggOverflow": false,
       "aggSchema": [],
       "aggSeriesLimitReached": false,
       "aggType": "",
       "arguments": {},
       "columnCustomDisplayInfos": {},
       "data": [
        [
         "dbfs:/EV_chargingMap/Xuancheng/FCD.csv",
         "FCD.csv",
         3415556737,
         1740445971000
        ],
        [
         "dbfs:/EV_chargingMap/Xuancheng/road_info.csv",
         "road_info.csv",
         336428,
         1739896297000
        ]
       ],
       "datasetInfos": [],
       "dbfsResultPath": null,
       "isJsonSchema": true,
       "metadata": {},
       "overflow": false,
       "plotOptions": {
        "customPlotOptions": {},
        "displayType": "table",
        "pivotAggregation": null,
        "pivotColumns": null,
        "xColumns": null,
        "yColumns": null
       },
       "removedWidgets": [],
       "schema": [
        {
         "metadata": "{}",
         "name": "path",
         "type": "\"string\""
        },
        {
         "metadata": "{}",
         "name": "name",
         "type": "\"string\""
        },
        {
         "metadata": "{}",
         "name": "size",
         "type": "\"long\""
        },
        {
         "metadata": "{}",
         "name": "modificationTime",
         "type": "\"long\""
        }
       ],
       "type": "table"
      }
     },
     "output_type": "display_data"
    }
   ],
   "source": [
    "import urllib.request\n",
    "urllib.request.urlretrieve(\"https://figshare.com/ndownloader/files/33524447\", \"/tmp/myxxxx.csv\")\n",
    "dbutils.fs.mv(\"file:/tmp/myxxxx.csv\", \"dbfs:/EV_chargingMap/Xuancheng/FCD.csv\")\n",
    "display(dbutils.fs.ls(\"dbfs:/EV_chargingMap/Xuancheng/\"))"
   ]
  },
  {
   "cell_type": "code",
   "execution_count": 0,
   "metadata": {
    "application/vnd.databricks.v1+cell": {
     "cellMetadata": {
      "byteLimit": 2048000,
      "rowLimit": 10000
     },
     "inputWidgets": {},
     "nuid": "57866d24-f3f9-4e49-8216-95d02f0f4e2f",
     "showTitle": false,
     "tableResultSettingsMap": {},
     "title": ""
    }
   },
   "outputs": [
    {
     "output_type": "display_data",
     "data": {
      "text/html": [
       "<style scoped>\n",
       "  .table-result-container {\n",
       "    max-height: 300px;\n",
       "    overflow: auto;\n",
       "  }\n",
       "  table, th, td {\n",
       "    border: 1px solid black;\n",
       "    border-collapse: collapse;\n",
       "  }\n",
       "  th, td {\n",
       "    padding: 5px;\n",
       "  }\n",
       "  th {\n",
       "    text-align: left;\n",
       "  }\n",
       "</style><div class='table-result-container'><table class='table-result'><thead style='background-color: white'><tr><th>path</th><th>name</th><th>size</th><th>modificationTime</th></tr></thead><tbody><tr><td>dbfs:/EV_chargingMap/Xuancheng/FCD.csv</td><td>FCD.csv</td><td>3415556737</td><td>1740445971000</td></tr><tr><td>dbfs:/EV_chargingMap/Xuancheng/road_info.csv</td><td>road_info.csv</td><td>336428</td><td>1740446140000</td></tr></tbody></table></div>"
      ]
     },
     "metadata": {
      "application/vnd.databricks.v1+output": {
       "addedWidgets": {},
       "aggData": [],
       "aggError": "",
       "aggOverflow": false,
       "aggSchema": [],
       "aggSeriesLimitReached": false,
       "aggType": "",
       "arguments": {},
       "columnCustomDisplayInfos": {},
       "data": [
        [
         "dbfs:/EV_chargingMap/Xuancheng/FCD.csv",
         "FCD.csv",
         3415556737,
         1740445971000
        ],
        [
         "dbfs:/EV_chargingMap/Xuancheng/road_info.csv",
         "road_info.csv",
         336428,
         1740446140000
        ]
       ],
       "datasetInfos": [],
       "dbfsResultPath": null,
       "isJsonSchema": true,
       "metadata": {},
       "overflow": false,
       "plotOptions": {
        "customPlotOptions": {},
        "displayType": "table",
        "pivotAggregation": null,
        "pivotColumns": null,
        "xColumns": null,
        "yColumns": null
       },
       "removedWidgets": [],
       "schema": [
        {
         "metadata": "{}",
         "name": "path",
         "type": "\"string\""
        },
        {
         "metadata": "{}",
         "name": "name",
         "type": "\"string\""
        },
        {
         "metadata": "{}",
         "name": "size",
         "type": "\"long\""
        },
        {
         "metadata": "{}",
         "name": "modificationTime",
         "type": "\"long\""
        }
       ],
       "type": "table"
      }
     },
     "output_type": "display_data"
    }
   ],
   "source": [
    "urllib.request.urlretrieve(\"https://figshare.com/ndownloader/files/33524711\", \"/tmp/myxxxx.csv\")\n",
    "dbutils.fs.mv(\"file:/tmp/myxxxx.csv\", \"dbfs:/EV_chargingMap/Xuancheng/road_info.csv\")\n",
    "display(dbutils.fs.ls(\"dbfs:/EV_chargingMap/Xuancheng/\"))"
   ]
  },
  {
   "cell_type": "code",
   "execution_count": 0,
   "metadata": {
    "application/vnd.databricks.v1+cell": {
     "cellMetadata": {
      "byteLimit": 2048000,
      "rowLimit": 10000
     },
     "inputWidgets": {},
     "nuid": "afe7279c-1b69-4a9b-bf12-37ce4aa7f980",
     "showTitle": false,
     "tableResultSettingsMap": {},
     "title": ""
    }
   },
   "outputs": [],
   "source": [
    "fcd_data_path = \"dbfs:/EV_chargingMap/Xuancheng/FCD.csv\"\n",
    "road_data_path = \"dbfs:/EV_chargingMap/Xuancheng/road_info.csv\""
   ]
  },
  {
   "cell_type": "markdown",
   "metadata": {
    "application/vnd.databricks.v1+cell": {
     "cellMetadata": {
      "byteLimit": 2048000,
      "rowLimit": 10000
     },
     "inputWidgets": {},
     "nuid": "573797a8-9d6f-46e0-ab9b-4a692a1f7242",
     "showTitle": false,
     "tableResultSettingsMap": {},
     "title": ""
    }
   },
   "source": [
    "##### View Data"
   ]
  },
  {
   "cell_type": "markdown",
   "metadata": {
    "application/vnd.databricks.v1+cell": {
     "cellMetadata": {
      "byteLimit": 2048000,
      "rowLimit": 10000
     },
     "inputWidgets": {},
     "nuid": "1388cf59-81d8-4e10-a066-02bc54f8468b",
     "showTitle": false,
     "tableResultSettingsMap": {},
     "title": ""
    }
   },
   "source": [
    "All Vehicle Data"
   ]
  },
  {
   "cell_type": "code",
   "execution_count": 0,
   "metadata": {
    "application/vnd.databricks.v1+cell": {
     "cellMetadata": {
      "byteLimit": 2048000,
      "rowLimit": 10000
     },
     "inputWidgets": {},
     "nuid": "5cd6de31-03d9-4ca8-a00a-d5f4682abcfb",
     "showTitle": false,
     "tableResultSettingsMap": {},
     "title": ""
    }
   },
   "outputs": [
    {
     "output_type": "display_data",
     "data": {
      "text/html": [
       "<style scoped>\n",
       "  .table-result-container {\n",
       "    max-height: 300px;\n",
       "    overflow: auto;\n",
       "  }\n",
       "  table, th, td {\n",
       "    border: 1px solid black;\n",
       "    border-collapse: collapse;\n",
       "  }\n",
       "  th, td {\n",
       "    padding: 5px;\n",
       "  }\n",
       "  th {\n",
       "    text-align: left;\n",
       "  }\n",
       "</style><div class='table-result-container'><table class='table-result'><thead style='background-color: white'><tr><th>cid</th><th>type</th><th>time</th><th>lon</th><th>lat</th><th>spd</th><th>turn</th><th>dis</th><th>roadid</th></tr></thead><tbody><tr><td>b62b0f461be5ee9702131b83ac8a1abb</td><td>2</td><td>2020-09-01 10:23:50</td><td>118.76256894584729</td><td>30.94340203652462</td><td>3.127881054091683</td><td>Unknown</td><td>297.14870013870984</td><td>4724_4664</td></tr><tr><td>b62b0f461be5ee9702131b83ac8a1abb</td><td>2</td><td>2020-09-01 10:24:00</td><td>118.76252655644232</td><td>30.943123013046684</td><td>3.127881054091683</td><td>Unknown</td><td>265.869889597793</td><td>4724_4664</td></tr><tr><td>b62b0f461be5ee9702131b83ac8a1abb</td><td>2</td><td>2020-09-01 10:24:10</td><td>118.76248416739554</td><td>30.94284398952154</td><td>3.127881054091683</td><td>Unknown</td><td>234.59107905687623</td><td>4724_4664</td></tr><tr><td>b62b0f461be5ee9702131b83ac8a1abb</td><td>2</td><td>2020-09-01 10:24:20</td><td>118.76244177870673</td><td>30.942564965949177</td><td>3.127881054091683</td><td>Unknown</td><td>203.3122685159594</td><td>4724_4664</td></tr><tr><td>b62b0f461be5ee9702131b83ac8a1abb</td><td>2</td><td>2020-09-01 10:24:30</td><td>118.76239939037605</td><td>30.9422859423296</td><td>3.127881054091683</td><td>Unknown</td><td>172.03345797504258</td><td>4724_4664</td></tr><tr><td>b62b0f461be5ee9702131b83ac8a1abb</td><td>2</td><td>2020-09-01 10:24:40</td><td>118.76235700240338</td><td>30.942006918662816</td><td>3.127881054091683</td><td>Unknown</td><td>140.75464743412573</td><td>4724_4664</td></tr><tr><td>b62b0f461be5ee9702131b83ac8a1abb</td><td>2</td><td>2020-09-01 10:24:50</td><td>118.76231461478886</td><td>30.94172789494881</td><td>3.127881054091683</td><td>Unknown</td><td>109.47583689320889</td><td>4724_4664</td></tr><tr><td>b62b0f461be5ee9702131b83ac8a1abb</td><td>2</td><td>2020-09-01 10:25:00</td><td>118.76226876843316</td><td>30.941449473830712</td><td>3.127881054091683</td><td>Unknown</td><td>78.19702635229207</td><td>4724_4664</td></tr><tr><td>b62b0f461be5ee9702131b83ac8a1abb</td><td>2</td><td>2020-09-01 10:25:10</td><td>118.76218821730015</td><td>30.941177080781344</td><td>3.127881054091683</td><td>Unknown</td><td>46.91821581137524</td><td>4724_4664</td></tr><tr><td>b62b0f461be5ee9702131b83ac8a1abb</td><td>2</td><td>2020-09-01 10:25:20</td><td>118.7620626798798</td><td>30.94091817139982</td><td>3.127881054091683</td><td>Unknown</td><td>15.639405270458415</td><td>4724_4664</td></tr></tbody></table></div>"
      ]
     },
     "metadata": {
      "application/vnd.databricks.v1+output": {
       "addedWidgets": {},
       "aggData": [],
       "aggError": "",
       "aggOverflow": false,
       "aggSchema": [],
       "aggSeriesLimitReached": false,
       "aggType": "",
       "arguments": {},
       "columnCustomDisplayInfos": {},
       "data": [
        [
         "b62b0f461be5ee9702131b83ac8a1abb",
         "2",
         "2020-09-01 10:23:50",
         "118.76256894584729",
         "30.94340203652462",
         "3.127881054091683",
         "Unknown",
         "297.14870013870984",
         "4724_4664"
        ],
        [
         "b62b0f461be5ee9702131b83ac8a1abb",
         "2",
         "2020-09-01 10:24:00",
         "118.76252655644232",
         "30.943123013046684",
         "3.127881054091683",
         "Unknown",
         "265.869889597793",
         "4724_4664"
        ],
        [
         "b62b0f461be5ee9702131b83ac8a1abb",
         "2",
         "2020-09-01 10:24:10",
         "118.76248416739554",
         "30.94284398952154",
         "3.127881054091683",
         "Unknown",
         "234.59107905687623",
         "4724_4664"
        ],
        [
         "b62b0f461be5ee9702131b83ac8a1abb",
         "2",
         "2020-09-01 10:24:20",
         "118.76244177870673",
         "30.942564965949177",
         "3.127881054091683",
         "Unknown",
         "203.3122685159594",
         "4724_4664"
        ],
        [
         "b62b0f461be5ee9702131b83ac8a1abb",
         "2",
         "2020-09-01 10:24:30",
         "118.76239939037605",
         "30.9422859423296",
         "3.127881054091683",
         "Unknown",
         "172.03345797504258",
         "4724_4664"
        ],
        [
         "b62b0f461be5ee9702131b83ac8a1abb",
         "2",
         "2020-09-01 10:24:40",
         "118.76235700240338",
         "30.942006918662816",
         "3.127881054091683",
         "Unknown",
         "140.75464743412573",
         "4724_4664"
        ],
        [
         "b62b0f461be5ee9702131b83ac8a1abb",
         "2",
         "2020-09-01 10:24:50",
         "118.76231461478886",
         "30.94172789494881",
         "3.127881054091683",
         "Unknown",
         "109.47583689320889",
         "4724_4664"
        ],
        [
         "b62b0f461be5ee9702131b83ac8a1abb",
         "2",
         "2020-09-01 10:25:00",
         "118.76226876843316",
         "30.941449473830712",
         "3.127881054091683",
         "Unknown",
         "78.19702635229207",
         "4724_4664"
        ],
        [
         "b62b0f461be5ee9702131b83ac8a1abb",
         "2",
         "2020-09-01 10:25:10",
         "118.76218821730015",
         "30.941177080781344",
         "3.127881054091683",
         "Unknown",
         "46.91821581137524",
         "4724_4664"
        ],
        [
         "b62b0f461be5ee9702131b83ac8a1abb",
         "2",
         "2020-09-01 10:25:20",
         "118.7620626798798",
         "30.94091817139982",
         "3.127881054091683",
         "Unknown",
         "15.639405270458415",
         "4724_4664"
        ]
       ],
       "datasetInfos": [],
       "dbfsResultPath": null,
       "isJsonSchema": true,
       "metadata": {},
       "overflow": false,
       "plotOptions": {
        "customPlotOptions": {},
        "displayType": "table",
        "pivotAggregation": null,
        "pivotColumns": null,
        "xColumns": null,
        "yColumns": null
       },
       "removedWidgets": [],
       "schema": [
        {
         "metadata": "{}",
         "name": "cid",
         "type": "\"string\""
        },
        {
         "metadata": "{}",
         "name": "type",
         "type": "\"string\""
        },
        {
         "metadata": "{}",
         "name": "time",
         "type": "\"string\""
        },
        {
         "metadata": "{}",
         "name": "lon",
         "type": "\"string\""
        },
        {
         "metadata": "{}",
         "name": "lat",
         "type": "\"string\""
        },
        {
         "metadata": "{}",
         "name": "spd",
         "type": "\"string\""
        },
        {
         "metadata": "{}",
         "name": "turn",
         "type": "\"string\""
        },
        {
         "metadata": "{}",
         "name": "dis",
         "type": "\"string\""
        },
        {
         "metadata": "{}",
         "name": "roadid",
         "type": "\"string\""
        }
       ],
       "type": "table"
      }
     },
     "output_type": "display_data"
    }
   ],
   "source": [
    "from pyspark.sql import SparkSession\n",
    "spark = SparkSession \\\n",
    "    .builder \\\n",
    "    .appName('vehicle analysis') \\\n",
    "    .config(\"spark.some.config.option\", \"some-value\") \\\n",
    "    .getOrCreate()\n",
    "\n",
    "df_fcd = spark.read.format(\"csv\").option(\"header\", \"true\").load(fcd_data_path)\n",
    "display(df_fcd.limit(10))\n",
    "df_fcd.createOrReplaceTempView(\"fcd_info\")\n"
   ]
  },
  {
   "cell_type": "markdown",
   "metadata": {
    "application/vnd.databricks.v1+cell": {
     "cellMetadata": {
      "byteLimit": 2048000,
      "rowLimit": 10000
     },
     "inputWidgets": {},
     "nuid": "8585c408-6f5d-45f6-8fe0-7130a624e187",
     "showTitle": false,
     "tableResultSettingsMap": {},
     "title": ""
    }
   },
   "source": [
    "##### Extract vehicle with cid b62b0f461be5ee9702131b83ac8a1abb\tand select only 2020-9-01 data"
   ]
  },
  {
   "cell_type": "markdown",
   "metadata": {
    "application/vnd.databricks.v1+cell": {
     "cellMetadata": {
      "byteLimit": 2048000,
      "rowLimit": 10000
     },
     "inputWidgets": {},
     "nuid": "cc9e680a-3bdb-4a7d-9aff-f8358e31c6d7",
     "showTitle": false,
     "tableResultSettingsMap": {},
     "title": ""
    }
   },
   "source": [
    "Data for cid b62b0f461be5ee9702131b83ac8a1abb at 2020-09-01"
   ]
  },
  {
   "cell_type": "code",
   "execution_count": 0,
   "metadata": {
    "application/vnd.databricks.v1+cell": {
     "cellMetadata": {
      "byteLimit": 2048000,
      "rowLimit": 10000
     },
     "inputWidgets": {},
     "nuid": "2ad84b3a-877f-4297-986a-f0ad2257dd38",
     "showTitle": false,
     "tableResultSettingsMap": {},
     "title": ""
    }
   },
   "outputs": [
    {
     "output_type": "display_data",
     "data": {
      "text/html": [
       "<style scoped>\n",
       "  .table-result-container {\n",
       "    max-height: 300px;\n",
       "    overflow: auto;\n",
       "  }\n",
       "  table, th, td {\n",
       "    border: 1px solid black;\n",
       "    border-collapse: collapse;\n",
       "  }\n",
       "  th, td {\n",
       "    padding: 5px;\n",
       "  }\n",
       "  th {\n",
       "    text-align: left;\n",
       "  }\n",
       "</style><div class='table-result-container'><table class='table-result'><thead style='background-color: white'><tr><th>cid</th><th>type</th><th>time</th><th>lon</th><th>lat</th><th>spd</th><th>turn</th><th>dis</th><th>roadid</th></tr></thead><tbody><tr><td>b62b0f461be5ee9702131b83ac8a1abb</td><td>2</td><td>2020-09-01 10:23:50</td><td>118.76256894584729</td><td>30.94340203652462</td><td>3.127881054091683</td><td>Unknown</td><td>297.14870013870984</td><td>4724_4664</td></tr><tr><td>b62b0f461be5ee9702131b83ac8a1abb</td><td>2</td><td>2020-09-01 10:24:00</td><td>118.76252655644232</td><td>30.943123013046684</td><td>3.127881054091683</td><td>Unknown</td><td>265.869889597793</td><td>4724_4664</td></tr><tr><td>b62b0f461be5ee9702131b83ac8a1abb</td><td>2</td><td>2020-09-01 10:24:10</td><td>118.76248416739554</td><td>30.94284398952154</td><td>3.127881054091683</td><td>Unknown</td><td>234.59107905687623</td><td>4724_4664</td></tr><tr><td>b62b0f461be5ee9702131b83ac8a1abb</td><td>2</td><td>2020-09-01 10:24:20</td><td>118.76244177870673</td><td>30.942564965949177</td><td>3.127881054091683</td><td>Unknown</td><td>203.3122685159594</td><td>4724_4664</td></tr><tr><td>b62b0f461be5ee9702131b83ac8a1abb</td><td>2</td><td>2020-09-01 10:24:30</td><td>118.76239939037605</td><td>30.9422859423296</td><td>3.127881054091683</td><td>Unknown</td><td>172.03345797504258</td><td>4724_4664</td></tr><tr><td>b62b0f461be5ee9702131b83ac8a1abb</td><td>2</td><td>2020-09-01 10:24:40</td><td>118.76235700240338</td><td>30.942006918662816</td><td>3.127881054091683</td><td>Unknown</td><td>140.75464743412573</td><td>4724_4664</td></tr><tr><td>b62b0f461be5ee9702131b83ac8a1abb</td><td>2</td><td>2020-09-01 10:24:50</td><td>118.76231461478886</td><td>30.94172789494881</td><td>3.127881054091683</td><td>Unknown</td><td>109.47583689320889</td><td>4724_4664</td></tr><tr><td>b62b0f461be5ee9702131b83ac8a1abb</td><td>2</td><td>2020-09-01 10:25:00</td><td>118.76226876843316</td><td>30.941449473830712</td><td>3.127881054091683</td><td>Unknown</td><td>78.19702635229207</td><td>4724_4664</td></tr><tr><td>b62b0f461be5ee9702131b83ac8a1abb</td><td>2</td><td>2020-09-01 10:25:10</td><td>118.76218821730015</td><td>30.941177080781344</td><td>3.127881054091683</td><td>Unknown</td><td>46.91821581137524</td><td>4724_4664</td></tr><tr><td>b62b0f461be5ee9702131b83ac8a1abb</td><td>2</td><td>2020-09-01 10:25:20</td><td>118.7620626798798</td><td>30.94091817139982</td><td>3.127881054091683</td><td>Unknown</td><td>15.639405270458415</td><td>4724_4664</td></tr></tbody></table></div>"
      ]
     },
     "metadata": {
      "application/vnd.databricks.v1+output": {
       "addedWidgets": {},
       "aggData": [],
       "aggError": "",
       "aggOverflow": false,
       "aggSchema": [],
       "aggSeriesLimitReached": false,
       "aggType": "",
       "arguments": {},
       "columnCustomDisplayInfos": {},
       "data": [
        [
         "b62b0f461be5ee9702131b83ac8a1abb",
         "2",
         "2020-09-01 10:23:50",
         "118.76256894584729",
         "30.94340203652462",
         "3.127881054091683",
         "Unknown",
         "297.14870013870984",
         "4724_4664"
        ],
        [
         "b62b0f461be5ee9702131b83ac8a1abb",
         "2",
         "2020-09-01 10:24:00",
         "118.76252655644232",
         "30.943123013046684",
         "3.127881054091683",
         "Unknown",
         "265.869889597793",
         "4724_4664"
        ],
        [
         "b62b0f461be5ee9702131b83ac8a1abb",
         "2",
         "2020-09-01 10:24:10",
         "118.76248416739554",
         "30.94284398952154",
         "3.127881054091683",
         "Unknown",
         "234.59107905687623",
         "4724_4664"
        ],
        [
         "b62b0f461be5ee9702131b83ac8a1abb",
         "2",
         "2020-09-01 10:24:20",
         "118.76244177870673",
         "30.942564965949177",
         "3.127881054091683",
         "Unknown",
         "203.3122685159594",
         "4724_4664"
        ],
        [
         "b62b0f461be5ee9702131b83ac8a1abb",
         "2",
         "2020-09-01 10:24:30",
         "118.76239939037605",
         "30.9422859423296",
         "3.127881054091683",
         "Unknown",
         "172.03345797504258",
         "4724_4664"
        ],
        [
         "b62b0f461be5ee9702131b83ac8a1abb",
         "2",
         "2020-09-01 10:24:40",
         "118.76235700240338",
         "30.942006918662816",
         "3.127881054091683",
         "Unknown",
         "140.75464743412573",
         "4724_4664"
        ],
        [
         "b62b0f461be5ee9702131b83ac8a1abb",
         "2",
         "2020-09-01 10:24:50",
         "118.76231461478886",
         "30.94172789494881",
         "3.127881054091683",
         "Unknown",
         "109.47583689320889",
         "4724_4664"
        ],
        [
         "b62b0f461be5ee9702131b83ac8a1abb",
         "2",
         "2020-09-01 10:25:00",
         "118.76226876843316",
         "30.941449473830712",
         "3.127881054091683",
         "Unknown",
         "78.19702635229207",
         "4724_4664"
        ],
        [
         "b62b0f461be5ee9702131b83ac8a1abb",
         "2",
         "2020-09-01 10:25:10",
         "118.76218821730015",
         "30.941177080781344",
         "3.127881054091683",
         "Unknown",
         "46.91821581137524",
         "4724_4664"
        ],
        [
         "b62b0f461be5ee9702131b83ac8a1abb",
         "2",
         "2020-09-01 10:25:20",
         "118.7620626798798",
         "30.94091817139982",
         "3.127881054091683",
         "Unknown",
         "15.639405270458415",
         "4724_4664"
        ]
       ],
       "datasetInfos": [],
       "dbfsResultPath": null,
       "isJsonSchema": true,
       "metadata": {},
       "overflow": false,
       "plotOptions": {
        "customPlotOptions": {},
        "displayType": "table",
        "pivotAggregation": null,
        "pivotColumns": null,
        "xColumns": null,
        "yColumns": null
       },
       "removedWidgets": [],
       "schema": [
        {
         "metadata": "{}",
         "name": "cid",
         "type": "\"string\""
        },
        {
         "metadata": "{}",
         "name": "type",
         "type": "\"string\""
        },
        {
         "metadata": "{}",
         "name": "time",
         "type": "\"string\""
        },
        {
         "metadata": "{}",
         "name": "lon",
         "type": "\"string\""
        },
        {
         "metadata": "{}",
         "name": "lat",
         "type": "\"string\""
        },
        {
         "metadata": "{}",
         "name": "spd",
         "type": "\"string\""
        },
        {
         "metadata": "{}",
         "name": "turn",
         "type": "\"string\""
        },
        {
         "metadata": "{}",
         "name": "dis",
         "type": "\"string\""
        },
        {
         "metadata": "{}",
         "name": "roadid",
         "type": "\"string\""
        }
       ],
       "type": "table"
      }
     },
     "output_type": "display_data"
    }
   ],
   "source": [
    "veh1_data = spark.sql(\"\"\"\n",
    "    SELECT * \n",
    "    FROM fcd_info \n",
    "    WHERE cid = 'b62b0f461be5ee9702131b83ac8a1abb' \n",
    "        AND time LIKE '2020-09-01%'\"\"\")\n",
    "display(veh1_data.limit(10))"
   ]
  },
  {
   "cell_type": "markdown",
   "metadata": {
    "application/vnd.databricks.v1+cell": {
     "cellMetadata": {
      "byteLimit": 2048000,
      "rowLimit": 10000
     },
     "inputWidgets": {},
     "nuid": "c51079a4-0427-44e5-a3d8-fa4004e9f663",
     "showTitle": false,
     "tableResultSettingsMap": {},
     "title": ""
    }
   },
   "source": [
    "Road Data"
   ]
  },
  {
   "cell_type": "code",
   "execution_count": 0,
   "metadata": {
    "application/vnd.databricks.v1+cell": {
     "cellMetadata": {
      "byteLimit": 2048000,
      "rowLimit": 10000
     },
     "inputWidgets": {},
     "nuid": "cd0aa64a-3ddd-4ce5-bf4e-a10acbe86ded",
     "showTitle": false,
     "tableResultSettingsMap": {},
     "title": ""
    }
   },
   "outputs": [
    {
     "output_type": "display_data",
     "data": {
      "text/html": [
       "<style scoped>\n",
       "  .table-result-container {\n",
       "    max-height: 300px;\n",
       "    overflow: auto;\n",
       "  }\n",
       "  table, th, td {\n",
       "    border: 1px solid black;\n",
       "    border-collapse: collapse;\n",
       "  }\n",
       "  th, td {\n",
       "    padding: 5px;\n",
       "  }\n",
       "  th {\n",
       "    text-align: left;\n",
       "  }\n",
       "</style><div class='table-result-container'><table class='table-result'><thead style='background-color: white'><tr><th>cid</th><th>nlane</th><th>turn</th><th>dnroad</th><th>geom</th><th>len</th></tr></thead><tbody><tr><td>4393_4423</td><td>3</td><td>S#U#L</td><td>4423_4471#4423_4393#4423_4448</td><td>LINESTRING(118.723892282 30.9160036330001;118.724844511 30.9169356090001;118.725139689 30.9172075440001;118.72554912 30.9175847340001;118.72639217 30.9182988110001;118.727228216 30.918991981;118.728001335 30.9196325400001;118.728375699 30.9199501530001)</td><td>612.7977763205269</td></tr><tr><td>4393_9052</td><td>0</td><td>L#S#U#R</td><td>9052_8367#9052_9051#9052_4393#9052_9135</td><td>LINESTRING(118.723892282 30.9160036330001;118.722024324 30.9140160600001;118.720700154 30.9125526920001;118.720136222 30.9119816210001;118.719768595 30.911646117;118.718447994 30.9105218220001;118.717744863 30.9098936440001;118.717195208 30.9094260800001;118.716467291 30.9088459870001)</td><td>1066.4846532943966</td></tr><tr><td>4423_4471</td><td>4</td><td>R#S#U#L</td><td>4471_4440#4471_4493#4471_4423#4471_4496</td><td>LINESTRING(118.728375699 30.9199501530001;118.728747766 30.920265816;118.729801576 30.9211240270001;118.73076324 30.9219052030001;118.731603947 30.9226078240001;118.732520889 30.923362862;118.733360693 30.924013947;118.733407433 30.9240550690001)</td><td>662.1959670657886</td></tr><tr><td>4438_4439</td><td>0</td><td>S#U</td><td>4439_4448#4439_4438</td><td>LINESTRING(118.718755032 30.9211743930001;118.720820615 30.920361588;118.722453919 30.9197707880001;118.722677839 30.919757067;118.722977489 30.9197996010001;118.723119303 30.91983708;118.72319199 30.9199152250001)</td><td>462.0972608008144</td></tr><tr><td>4438_4474</td><td>2</td><td>R#S#U#L</td><td>4474_4448#4474_4582#4474_4438#4474_4502</td><td>LINESTRING(118.718755032 30.9211743930001;118.719776674 30.922589999;118.720795579 30.924005633;118.721023881 30.9243292560001)</td><td>411.5472060925527</td></tr><tr><td>4439_4448</td><td>0</td><td>R#S#U#L</td><td>4448_4423#4448_4496#4448_4439#4448_4474</td><td>LINESTRING(118.72319199 30.9199152250001;118.723424185 30.92014691;118.724133865 30.9209544010001;118.72498767 30.9219444890001)</td><td>283.04994985107373</td></tr><tr><td>4440_4497</td><td>3</td><td>R#U#S#L</td><td>4497_4415#4497_4440#4497_4526#4497_4536</td><td>LINESTRING(118.751056271 30.9209090950001;118.751191433 30.920961371;118.752246648 30.92134672;118.752827484 30.9215177930001;118.75335601 30.921665712;118.754085295 30.921819854;118.754786697 30.9219624400001;118.756260227 30.9221422540001;118.75744583 30.9222782470001;118.758355406 30.922453773;118.758758509 30.922552674;118.75941962 30.9227613960001;118.759952493 30.922956948;118.760632432 30.923248915;118.761156683 30.9235400170001;118.76200405 30.9240951310001;118.762639737 30.924614354;118.763323132 30.925282044;118.764629799 30.926687842)</td><td>1500.5641761265365</td></tr><tr><td>4448_4423</td><td>2</td><td>L#R#U</td><td>4423_4471#4423_4393#4423_4448</td><td>LINESTRING(118.72498767 30.9219444890001;118.728375699 30.9199501530001)</td><td>392.1221756222692</td></tr><tr><td>4448_4496</td><td>2</td><td>R#S#U#L</td><td>4496_4471#4496_4539#4496_4448#4496_4518</td><td>LINESTRING(118.72498767 30.9219444890001;118.725248578 30.922247036;118.726171057 30.9233131770001;118.726921554 30.9241716440001;118.728366735 30.9258606760001;118.729294252 30.9269730350001)</td><td>693.016782274206</td></tr><tr><td>4464_4438</td><td>0</td><td>S#L#U</td><td>4438_4439#4438_4474#4438_4464</td><td>LINESTRING(118.709537063 30.923882081;118.710498958 30.92330087;118.714128082 30.921484804;118.715483571 30.9209085100001;118.715864184 30.92083546;118.716201188 30.9208775130001;118.716410172 30.920957055;118.716986881 30.9214039240001;118.717183735 30.92150152;118.71738391 30.921552546;118.717608155 30.921556724;118.717988449 30.921465777;118.718755032 30.9211743930001)</td><td>1004.4727876181648</td></tr></tbody></table></div>"
      ]
     },
     "metadata": {
      "application/vnd.databricks.v1+output": {
       "addedWidgets": {},
       "aggData": [],
       "aggError": "",
       "aggOverflow": false,
       "aggSchema": [],
       "aggSeriesLimitReached": false,
       "aggType": "",
       "arguments": {},
       "columnCustomDisplayInfos": {},
       "data": [
        [
         "4393_4423",
         "3",
         "S#U#L",
         "4423_4471#4423_4393#4423_4448",
         "LINESTRING(118.723892282 30.9160036330001;118.724844511 30.9169356090001;118.725139689 30.9172075440001;118.72554912 30.9175847340001;118.72639217 30.9182988110001;118.727228216 30.918991981;118.728001335 30.9196325400001;118.728375699 30.9199501530001)",
         "612.7977763205269"
        ],
        [
         "4393_9052",
         "0",
         "L#S#U#R",
         "9052_8367#9052_9051#9052_4393#9052_9135",
         "LINESTRING(118.723892282 30.9160036330001;118.722024324 30.9140160600001;118.720700154 30.9125526920001;118.720136222 30.9119816210001;118.719768595 30.911646117;118.718447994 30.9105218220001;118.717744863 30.9098936440001;118.717195208 30.9094260800001;118.716467291 30.9088459870001)",
         "1066.4846532943966"
        ],
        [
         "4423_4471",
         "4",
         "R#S#U#L",
         "4471_4440#4471_4493#4471_4423#4471_4496",
         "LINESTRING(118.728375699 30.9199501530001;118.728747766 30.920265816;118.729801576 30.9211240270001;118.73076324 30.9219052030001;118.731603947 30.9226078240001;118.732520889 30.923362862;118.733360693 30.924013947;118.733407433 30.9240550690001)",
         "662.1959670657886"
        ],
        [
         "4438_4439",
         "0",
         "S#U",
         "4439_4448#4439_4438",
         "LINESTRING(118.718755032 30.9211743930001;118.720820615 30.920361588;118.722453919 30.9197707880001;118.722677839 30.919757067;118.722977489 30.9197996010001;118.723119303 30.91983708;118.72319199 30.9199152250001)",
         "462.0972608008144"
        ],
        [
         "4438_4474",
         "2",
         "R#S#U#L",
         "4474_4448#4474_4582#4474_4438#4474_4502",
         "LINESTRING(118.718755032 30.9211743930001;118.719776674 30.922589999;118.720795579 30.924005633;118.721023881 30.9243292560001)",
         "411.5472060925527"
        ],
        [
         "4439_4448",
         "0",
         "R#S#U#L",
         "4448_4423#4448_4496#4448_4439#4448_4474",
         "LINESTRING(118.72319199 30.9199152250001;118.723424185 30.92014691;118.724133865 30.9209544010001;118.72498767 30.9219444890001)",
         "283.04994985107373"
        ],
        [
         "4440_4497",
         "3",
         "R#U#S#L",
         "4497_4415#4497_4440#4497_4526#4497_4536",
         "LINESTRING(118.751056271 30.9209090950001;118.751191433 30.920961371;118.752246648 30.92134672;118.752827484 30.9215177930001;118.75335601 30.921665712;118.754085295 30.921819854;118.754786697 30.9219624400001;118.756260227 30.9221422540001;118.75744583 30.9222782470001;118.758355406 30.922453773;118.758758509 30.922552674;118.75941962 30.9227613960001;118.759952493 30.922956948;118.760632432 30.923248915;118.761156683 30.9235400170001;118.76200405 30.9240951310001;118.762639737 30.924614354;118.763323132 30.925282044;118.764629799 30.926687842)",
         "1500.5641761265365"
        ],
        [
         "4448_4423",
         "2",
         "L#R#U",
         "4423_4471#4423_4393#4423_4448",
         "LINESTRING(118.72498767 30.9219444890001;118.728375699 30.9199501530001)",
         "392.1221756222692"
        ],
        [
         "4448_4496",
         "2",
         "R#S#U#L",
         "4496_4471#4496_4539#4496_4448#4496_4518",
         "LINESTRING(118.72498767 30.9219444890001;118.725248578 30.922247036;118.726171057 30.9233131770001;118.726921554 30.9241716440001;118.728366735 30.9258606760001;118.729294252 30.9269730350001)",
         "693.016782274206"
        ],
        [
         "4464_4438",
         "0",
         "S#L#U",
         "4438_4439#4438_4474#4438_4464",
         "LINESTRING(118.709537063 30.923882081;118.710498958 30.92330087;118.714128082 30.921484804;118.715483571 30.9209085100001;118.715864184 30.92083546;118.716201188 30.9208775130001;118.716410172 30.920957055;118.716986881 30.9214039240001;118.717183735 30.92150152;118.71738391 30.921552546;118.717608155 30.921556724;118.717988449 30.921465777;118.718755032 30.9211743930001)",
         "1004.4727876181648"
        ]
       ],
       "datasetInfos": [],
       "dbfsResultPath": null,
       "isJsonSchema": true,
       "metadata": {},
       "overflow": false,
       "plotOptions": {
        "customPlotOptions": {},
        "displayType": "table",
        "pivotAggregation": null,
        "pivotColumns": null,
        "xColumns": null,
        "yColumns": null
       },
       "removedWidgets": [],
       "schema": [
        {
         "metadata": "{}",
         "name": "cid",
         "type": "\"string\""
        },
        {
         "metadata": "{}",
         "name": "nlane",
         "type": "\"string\""
        },
        {
         "metadata": "{}",
         "name": "turn",
         "type": "\"string\""
        },
        {
         "metadata": "{}",
         "name": "dnroad",
         "type": "\"string\""
        },
        {
         "metadata": "{}",
         "name": "geom",
         "type": "\"string\""
        },
        {
         "metadata": "{}",
         "name": "len",
         "type": "\"string\""
        }
       ],
       "type": "table"
      }
     },
     "output_type": "display_data"
    }
   ],
   "source": [
    "df_road = spark.read.format(\"csv\").option(\"header\", \"true\").load(road_data_path)\n",
    "display(df_road.limit(10))\n",
    "df_road.createOrReplaceTempView(\"road_info\")"
   ]
  },
  {
   "cell_type": "markdown",
   "metadata": {
    "application/vnd.databricks.v1+cell": {
     "cellMetadata": {
      "byteLimit": 2048000,
      "rowLimit": 10000
     },
     "inputWidgets": {},
     "nuid": "432ac714-d881-46f5-a7c6-be213f734229",
     "showTitle": false,
     "tableResultSettingsMap": {},
     "title": ""
    }
   },
   "source": [
    "##### Generate Road map with given geom info from road data"
   ]
  }
 ],
 "metadata": {
  "application/vnd.databricks.v1+notebook": {
   "computePreferences": null,
   "dashboards": [],
   "environmentMetadata": {
    "base_environment": "",
    "client": "1"
   },
   "language": "python",
   "notebookMetadata": {
    "pythonIndentUnit": 4
   },
   "notebookName": "Car Info Data Analysis",
   "widgets": {}
  }
 },
 "nbformat": 4,
 "nbformat_minor": 0
}
